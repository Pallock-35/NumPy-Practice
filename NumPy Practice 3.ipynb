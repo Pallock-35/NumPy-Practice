{
 "cells": [
  {
   "cell_type": "markdown",
   "id": "b0c14d55-5d43-4fb8-81fa-999ae0fc067c",
   "metadata": {},
   "source": [
    "ARRAY MANIPULATION ROUTINES"
   ]
  },
  {
   "cell_type": "markdown",
   "id": "fe6618f2-eb6d-47fc-b596-a8405b378d02",
   "metadata": {},
   "source": [
    "Basic Operations"
   ]
  },
  {
   "cell_type": "code",
   "execution_count": 4,
   "id": "b20e1218-dd44-42fb-b978-10997e282909",
   "metadata": {},
   "outputs": [],
   "source": [
    "import numpy as np"
   ]
  },
  {
   "cell_type": "code",
   "execution_count": 6,
   "id": "e2b9e67f-c2db-4c53-bb3b-a39f1c12d9f2",
   "metadata": {},
   "outputs": [],
   "source": [
    "a = np.array([1, 2, 3])\n",
    "B = [4, 5, 6]"
   ]
  },
  {
   "cell_type": "code",
   "execution_count": 10,
   "id": "8d2d662b-08cf-4b6e-949a-814437f95cd1",
   "metadata": {},
   "outputs": [
    {
     "data": {
      "text/plain": [
       "array([4, 5, 6])"
      ]
     },
     "execution_count": 10,
     "metadata": {},
     "output_type": "execute_result"
    }
   ],
   "source": [
    "np.copyto(a, B)        ### Copies B into a\n",
    "a"
   ]
  },
  {
   "cell_type": "code",
   "execution_count": 14,
   "id": "b42fd37b-1367-4600-8dcd-24f5b23a8de4",
   "metadata": {},
   "outputs": [
    {
     "data": {
      "text/plain": [
       "1"
      ]
     },
     "execution_count": 14,
     "metadata": {},
     "output_type": "execute_result"
    }
   ],
   "source": [
    "np.ndim(a)  ### returns the number of dimensions of an array"
   ]
  },
  {
   "cell_type": "code",
   "execution_count": 16,
   "id": "49361822-9120-4fec-9dc8-a8f7a66578f2",
   "metadata": {},
   "outputs": [
    {
     "data": {
      "text/plain": [
       "(3,)"
      ]
     },
     "execution_count": 16,
     "metadata": {},
     "output_type": "execute_result"
    }
   ],
   "source": [
    "np.shape(a)        ### returns the shape of an array"
   ]
  },
  {
   "cell_type": "code",
   "execution_count": 18,
   "id": "b72ebb9e-a719-445c-8682-05557a764d7a",
   "metadata": {},
   "outputs": [
    {
     "data": {
      "text/plain": [
       "(2, 4)"
      ]
     },
     "execution_count": 18,
     "metadata": {},
     "output_type": "execute_result"
    }
   ],
   "source": [
    "b = [[3, 2, 1, 7],[4, 9, 0, 2]]\n",
    "np.shape(b)"
   ]
  },
  {
   "cell_type": "code",
   "execution_count": 20,
   "id": "61a860c5-dbf7-4310-83fa-a00957cad973",
   "metadata": {},
   "outputs": [
    {
     "data": {
      "text/plain": [
       "3"
      ]
     },
     "execution_count": 20,
     "metadata": {},
     "output_type": "execute_result"
    }
   ],
   "source": [
    "np.size(a)       ### returns the number of elements in a given axis"
   ]
  },
  {
   "cell_type": "code",
   "execution_count": 22,
   "id": "feb2272b-e8fa-40f9-8264-0a7b2f6f9e18",
   "metadata": {},
   "outputs": [
    {
     "data": {
      "text/plain": [
       "8"
      ]
     },
     "execution_count": 22,
     "metadata": {},
     "output_type": "execute_result"
    }
   ],
   "source": [
    "np.size(b)"
   ]
  },
  {
   "cell_type": "markdown",
   "id": "e23d387b-e267-4f06-813f-d7c9be53beeb",
   "metadata": {},
   "source": [
    "Changing Array Shape"
   ]
  },
  {
   "cell_type": "code",
   "execution_count": 29,
   "id": "ecf198ba-e334-47b5-bdb8-c0825183067f",
   "metadata": {},
   "outputs": [
    {
     "data": {
      "text/plain": [
       "array([[7, 8],\n",
       "       [9, 7],\n",
       "       [9, 6]])"
      ]
     },
     "execution_count": 29,
     "metadata": {},
     "output_type": "execute_result"
    }
   ],
   "source": [
    "a = np.random.randint(5, 10, (3, 2), dtype=int)\n",
    "a"
   ]
  },
  {
   "cell_type": "code",
   "execution_count": 31,
   "id": "a92f5662-266f-4822-9e19-39032d74e46b",
   "metadata": {},
   "outputs": [
    {
     "data": {
      "text/plain": [
       "array([[7],\n",
       "       [8],\n",
       "       [9],\n",
       "       [7],\n",
       "       [9],\n",
       "       [6]])"
      ]
     },
     "execution_count": 31,
     "metadata": {},
     "output_type": "execute_result"
    }
   ],
   "source": [
    "np.reshape(a, (6, 1))"
   ]
  },
  {
   "cell_type": "code",
   "execution_count": 39,
   "id": "9a532e62-7c10-46d2-910f-45170d1cd2af",
   "metadata": {},
   "outputs": [
    {
     "name": "stdout",
     "output_type": "stream",
     "text": [
      "[7 8 9 7 9 6]\n",
      "[7 8 9 7 9 6]\n"
     ]
    }
   ],
   "source": [
    "b=np.ravel(a)       ### returns a contiguous flattenned array\n",
    "print(b)\n",
    "c=a.reshape(-1)         #### ravel is equivalent to reshape(-1, order=order)\n",
    "print(c)"
   ]
  },
  {
   "cell_type": "code",
   "execution_count": 41,
   "id": "e3b27ad1-ce89-4760-b6f2-acae9e621968",
   "metadata": {},
   "outputs": [
    {
     "data": {
      "text/plain": [
       "array([[1, 2, 3],\n",
       "       [4, 5, 6]])"
      ]
     },
     "execution_count": 41,
     "metadata": {},
     "output_type": "execute_result"
    }
   ],
   "source": [
    "x = np.arange(1, 7).reshape(2,3)\n",
    "x"
   ]
  },
  {
   "cell_type": "code",
   "execution_count": 45,
   "id": "87643a65-9ea4-40ed-afbe-31a591c10d0e",
   "metadata": {},
   "outputs": [
    {
     "data": {
      "text/plain": [
       "2"
      ]
     },
     "execution_count": 45,
     "metadata": {},
     "output_type": "execute_result"
    }
   ],
   "source": [
    "x.flat[1]        #### 1-D iterator"
   ]
  },
  {
   "cell_type": "code",
   "execution_count": 49,
   "id": "475d68b0-1a39-46c8-ba56-72f2d2b6a315",
   "metadata": {},
   "outputs": [
    {
     "data": {
      "text/plain": [
       "array([[1, 4],\n",
       "       [2, 5],\n",
       "       [3, 6]])"
      ]
     },
     "execution_count": 49,
     "metadata": {},
     "output_type": "execute_result"
    }
   ],
   "source": [
    "x.T   ### Transpose"
   ]
  },
  {
   "cell_type": "code",
   "execution_count": 51,
   "id": "889defe7-d7b8-4c74-ad54-69419c3693a8",
   "metadata": {},
   "outputs": [
    {
     "data": {
      "text/plain": [
       "2"
      ]
     },
     "execution_count": 51,
     "metadata": {},
     "output_type": "execute_result"
    }
   ],
   "source": [
    "x.T.flat[2]"
   ]
  },
  {
   "cell_type": "code",
   "execution_count": 53,
   "id": "631ce38f-37a1-46e8-a881-360a56ae26b8",
   "metadata": {},
   "outputs": [
    {
     "data": {
      "text/plain": [
       "array([[3, 3, 3],\n",
       "       [3, 3, 3]])"
      ]
     },
     "execution_count": 53,
     "metadata": {},
     "output_type": "execute_result"
    }
   ],
   "source": [
    "x.flat = 3\n",
    "x"
   ]
  },
  {
   "cell_type": "code",
   "execution_count": 55,
   "id": "7cc4e429-5368-4355-afe9-c5c778e03a8e",
   "metadata": {},
   "outputs": [
    {
     "data": {
      "text/plain": [
       "array([[3, 1, 3],\n",
       "       [3, 1, 3]])"
      ]
     },
     "execution_count": 55,
     "metadata": {},
     "output_type": "execute_result"
    }
   ],
   "source": [
    "x.flat[[1,4]]=1\n",
    "x"
   ]
  },
  {
   "cell_type": "code",
   "execution_count": 59,
   "id": "f9b14b74-96df-4125-86d2-76dd8b08e095",
   "metadata": {},
   "outputs": [
    {
     "data": {
      "text/plain": [
       "array([3, 1, 3, 3, 1, 3])"
      ]
     },
     "execution_count": 59,
     "metadata": {},
     "output_type": "execute_result"
    }
   ],
   "source": [
    "x.flatten()  ### return a copy of the array collapsed into one dimension"
   ]
  },
  {
   "cell_type": "markdown",
   "id": "1e810156-b070-4245-87ab-4b39f7b9c9d1",
   "metadata": {},
   "source": [
    "Transpose-like Operations"
   ]
  },
  {
   "cell_type": "code",
   "execution_count": 62,
   "id": "ab66af06-8df6-474a-a028-dd69011ee63d",
   "metadata": {},
   "outputs": [
    {
     "data": {
      "text/plain": [
       "array([[[0., 0., 0., 0., 0.],\n",
       "        [0., 0., 0., 0., 0.],\n",
       "        [0., 0., 0., 0., 0.],\n",
       "        [0., 0., 0., 0., 0.]],\n",
       "\n",
       "       [[0., 0., 0., 0., 0.],\n",
       "        [0., 0., 0., 0., 0.],\n",
       "        [0., 0., 0., 0., 0.],\n",
       "        [0., 0., 0., 0., 0.]],\n",
       "\n",
       "       [[0., 0., 0., 0., 0.],\n",
       "        [0., 0., 0., 0., 0.],\n",
       "        [0., 0., 0., 0., 0.],\n",
       "        [0., 0., 0., 0., 0.]]])"
      ]
     },
     "execution_count": 62,
     "metadata": {},
     "output_type": "execute_result"
    }
   ],
   "source": [
    "y = np.zeros((3,4,5))\n",
    "y"
   ]
  },
  {
   "cell_type": "code",
   "execution_count": 64,
   "id": "4e756e18-735b-46d0-bfde-02ba72edb4d5",
   "metadata": {},
   "outputs": [
    {
     "data": {
      "text/plain": [
       "array([[[0., 0., 0.],\n",
       "        [0., 0., 0.],\n",
       "        [0., 0., 0.],\n",
       "        [0., 0., 0.],\n",
       "        [0., 0., 0.]],\n",
       "\n",
       "       [[0., 0., 0.],\n",
       "        [0., 0., 0.],\n",
       "        [0., 0., 0.],\n",
       "        [0., 0., 0.],\n",
       "        [0., 0., 0.]],\n",
       "\n",
       "       [[0., 0., 0.],\n",
       "        [0., 0., 0.],\n",
       "        [0., 0., 0.],\n",
       "        [0., 0., 0.],\n",
       "        [0., 0., 0.]],\n",
       "\n",
       "       [[0., 0., 0.],\n",
       "        [0., 0., 0.],\n",
       "        [0., 0., 0.],\n",
       "        [0., 0., 0.],\n",
       "        [0., 0., 0.]]])"
      ]
     },
     "execution_count": 64,
     "metadata": {},
     "output_type": "execute_result"
    }
   ],
   "source": [
    "Y = np.moveaxis(y, 0, -1)\n",
    "Y"
   ]
  },
  {
   "cell_type": "code",
   "execution_count": 66,
   "id": "aa373232-7062-49b3-a20c-38b84ccd090a",
   "metadata": {},
   "outputs": [
    {
     "data": {
      "text/plain": [
       "(4, 5, 3)"
      ]
     },
     "execution_count": 66,
     "metadata": {},
     "output_type": "execute_result"
    }
   ],
   "source": [
    "Y.shape"
   ]
  },
  {
   "cell_type": "code",
   "execution_count": 70,
   "id": "5a8d5d6b-013b-47c6-b7d7-6f8e37fb4a64",
   "metadata": {},
   "outputs": [
    {
     "data": {
      "text/plain": [
       "(3, 5, 4)"
      ]
     },
     "execution_count": 70,
     "metadata": {},
     "output_type": "execute_result"
    }
   ],
   "source": [
    "Y = np.moveaxis(y, -1, 1)\n",
    "Y.shape"
   ]
  },
  {
   "cell_type": "code",
   "execution_count": 72,
   "id": "b70c9a41-4a3a-4b80-a579-fcd3e597200f",
   "metadata": {},
   "outputs": [
    {
     "data": {
      "text/plain": [
       "(5, 4, 3)"
      ]
     },
     "execution_count": 72,
     "metadata": {},
     "output_type": "execute_result"
    }
   ],
   "source": [
    "np.transpose(y).shape"
   ]
  },
  {
   "cell_type": "code",
   "execution_count": 76,
   "id": "836d7dfe-b733-4ff9-be15-83e954299640",
   "metadata": {},
   "outputs": [
    {
     "data": {
      "text/plain": [
       "(5, 4, 3)"
      ]
     },
     "execution_count": 76,
     "metadata": {},
     "output_type": "execute_result"
    }
   ],
   "source": [
    "np.swapaxes(y, 0, -1).shape"
   ]
  },
  {
   "cell_type": "code",
   "execution_count": 78,
   "id": "71b30b95-3049-4f22-b880-8afd404f6b99",
   "metadata": {},
   "outputs": [
    {
     "data": {
      "text/plain": [
       "(5, 4, 3)"
      ]
     },
     "execution_count": 78,
     "metadata": {},
     "output_type": "execute_result"
    }
   ],
   "source": [
    "np.moveaxis(y, [0, 1], [-1, -2]).shape"
   ]
  },
  {
   "cell_type": "code",
   "execution_count": 80,
   "id": "2d018570-ddf9-4f2e-ae88-d10438563f4c",
   "metadata": {},
   "outputs": [
    {
     "data": {
      "text/plain": [
       "(5, 4, 3)"
      ]
     },
     "execution_count": 80,
     "metadata": {},
     "output_type": "execute_result"
    }
   ],
   "source": [
    "np.moveaxis(y, [0, 1, 2], [-1, -2, -3]).shape"
   ]
  },
  {
   "cell_type": "markdown",
   "id": "d9e87f6b-47eb-4d14-a612-472e1e511bad",
   "metadata": {},
   "source": [
    "Changing Number of Dimensions"
   ]
  },
  {
   "cell_type": "code",
   "execution_count": 84,
   "id": "520d8b29-e77e-4173-9b03-55e936872d81",
   "metadata": {},
   "outputs": [
    {
     "data": {
      "text/plain": [
       "<numpy.broadcast at 0x228fc831d70>"
      ]
     },
     "execution_count": 84,
     "metadata": {},
     "output_type": "execute_result"
    }
   ],
   "source": [
    "a = np.array([[1], [2], [3]])\n",
    "b = np.array([4, 5, 6])\n",
    "c = np.broadcast(a, b)\n",
    "c"
   ]
  },
  {
   "cell_type": "code",
   "execution_count": 87,
   "id": "51100ec9-8a1e-418a-8c24-852147de13a5",
   "metadata": {},
   "outputs": [
    {
     "data": {
      "text/plain": [
       "(2,)"
      ]
     },
     "execution_count": 87,
     "metadata": {},
     "output_type": "execute_result"
    }
   ],
   "source": [
    "d = np.array([1, 2])\n",
    "d.shape"
   ]
  },
  {
   "cell_type": "code",
   "execution_count": 89,
   "id": "4d36cd75-b0d8-4b0c-be5b-856e99726b60",
   "metadata": {},
   "outputs": [
    {
     "data": {
      "text/plain": [
       "array([[1, 2]])"
      ]
     },
     "execution_count": 89,
     "metadata": {},
     "output_type": "execute_result"
    }
   ],
   "source": [
    "np.expand_dims(d, axis=0)"
   ]
  },
  {
   "cell_type": "code",
   "execution_count": 91,
   "id": "53c7d302-eb98-4c40-a593-a103567d774a",
   "metadata": {},
   "outputs": [
    {
     "data": {
      "text/plain": [
       "(1, 2)"
      ]
     },
     "execution_count": 91,
     "metadata": {},
     "output_type": "execute_result"
    }
   ],
   "source": [
    "np.expand_dims(d, axis=0).shape"
   ]
  },
  {
   "cell_type": "code",
   "execution_count": 93,
   "id": "ecae87f6-17b4-468a-b512-0bf51e9cea70",
   "metadata": {},
   "outputs": [
    {
     "data": {
      "text/plain": [
       "(2, 1)"
      ]
     },
     "execution_count": 93,
     "metadata": {},
     "output_type": "execute_result"
    }
   ],
   "source": [
    "np.expand_dims(d, axis=1).shape"
   ]
  },
  {
   "cell_type": "code",
   "execution_count": 95,
   "id": "e7a78c41-1c76-40c8-9aa3-737e6d6a0d8a",
   "metadata": {},
   "outputs": [
    {
     "data": {
      "text/plain": [
       "(1, 1, 2)"
      ]
     },
     "execution_count": 95,
     "metadata": {},
     "output_type": "execute_result"
    }
   ],
   "source": [
    "np.expand_dims(d, axis=(0, 1)).shape"
   ]
  },
  {
   "cell_type": "code",
   "execution_count": 97,
   "id": "920791d0-fb09-495e-8aab-2964a4d2b18f",
   "metadata": {},
   "outputs": [
    {
     "data": {
      "text/plain": [
       "(2, 1, 1)"
      ]
     },
     "execution_count": 97,
     "metadata": {},
     "output_type": "execute_result"
    }
   ],
   "source": [
    "np.expand_dims(d, axis=(2, 1)).shape"
   ]
  },
  {
   "cell_type": "markdown",
   "id": "5bd5ff7c-3faf-40f5-8f88-5412806bbc7a",
   "metadata": {},
   "source": [
    "Joining Arrays"
   ]
  },
  {
   "cell_type": "code",
   "execution_count": 104,
   "id": "f53ce020-9c1c-4d39-8803-7bf9258f02c8",
   "metadata": {},
   "outputs": [],
   "source": [
    "e = np.array([[1, 2], [3, 4]])\n",
    "f = np.array([[5, 6]])"
   ]
  },
  {
   "cell_type": "code",
   "execution_count": 106,
   "id": "ec3dd9ab-f0d0-4a22-b810-9d6ed697eb7b",
   "metadata": {},
   "outputs": [
    {
     "data": {
      "text/plain": [
       "array([[1, 2],\n",
       "       [3, 4],\n",
       "       [5, 6]])"
      ]
     },
     "execution_count": 106,
     "metadata": {},
     "output_type": "execute_result"
    }
   ],
   "source": [
    "np.concatenate((e, f), axis=0)"
   ]
  },
  {
   "cell_type": "code",
   "execution_count": 110,
   "id": "d5747132-9041-4660-9736-f562d5a2b643",
   "metadata": {},
   "outputs": [
    {
     "data": {
      "text/plain": [
       "array([[1, 2, 5],\n",
       "       [3, 4, 6]])"
      ]
     },
     "execution_count": 110,
     "metadata": {},
     "output_type": "execute_result"
    }
   ],
   "source": [
    "np.concatenate((e, f.T), axis=1)"
   ]
  },
  {
   "cell_type": "code",
   "execution_count": 112,
   "id": "1bae1e40-b58a-4569-b3b1-90ceef99b166",
   "metadata": {},
   "outputs": [
    {
     "data": {
      "text/plain": [
       "array([1, 2, 3, 4, 5, 6])"
      ]
     },
     "execution_count": 112,
     "metadata": {},
     "output_type": "execute_result"
    }
   ],
   "source": [
    "np.concatenate((e,f), axis=None)"
   ]
  },
  {
   "cell_type": "code",
   "execution_count": 114,
   "id": "36088bda-03fc-46f0-972d-a11f12cd0642",
   "metadata": {},
   "outputs": [
    {
     "data": {
      "text/plain": [
       "Generator(PCG64) at 0x2288083BCA0"
      ]
     },
     "execution_count": 114,
     "metadata": {},
     "output_type": "execute_result"
    }
   ],
   "source": [
    "rng = np.random.default_rng()\n",
    "rng"
   ]
  },
  {
   "cell_type": "code",
   "execution_count": 126,
   "id": "8bb30964-56d7-40e2-b572-59a3ada20b41",
   "metadata": {},
   "outputs": [
    {
     "data": {
      "text/plain": [
       "(10, 3, 4)"
      ]
     },
     "execution_count": 126,
     "metadata": {},
     "output_type": "execute_result"
    }
   ],
   "source": [
    "arrays = [rng.normal(size=(3,4)) for _ in range(10)]  #### creates random 3X4 arrays 10 times\n",
    "np.stack(arrays, axis=0).shape"
   ]
  },
  {
   "cell_type": "code",
   "execution_count": 128,
   "id": "ee36375b-b925-4d79-80d8-7c83b50b4f77",
   "metadata": {},
   "outputs": [
    {
     "data": {
      "text/plain": [
       "(3, 10, 4)"
      ]
     },
     "execution_count": 128,
     "metadata": {},
     "output_type": "execute_result"
    }
   ],
   "source": [
    "np.stack(arrays, axis=1).shape"
   ]
  },
  {
   "cell_type": "code",
   "execution_count": 130,
   "id": "61258801-7a26-4900-a508-b9b21a90ed30",
   "metadata": {},
   "outputs": [
    {
     "data": {
      "text/plain": [
       "(3, 4, 10)"
      ]
     },
     "execution_count": 130,
     "metadata": {},
     "output_type": "execute_result"
    }
   ],
   "source": [
    "np.stack(arrays, axis=2).shape"
   ]
  },
  {
   "cell_type": "code",
   "execution_count": null,
   "id": "8d21684a-374a-4c36-8ef8-beabeae93a61",
   "metadata": {},
   "outputs": [],
   "source": []
  }
 ],
 "metadata": {
  "kernelspec": {
   "display_name": "Python 3 (ipykernel)",
   "language": "python",
   "name": "python3"
  },
  "language_info": {
   "codemirror_mode": {
    "name": "ipython",
    "version": 3
   },
   "file_extension": ".py",
   "mimetype": "text/x-python",
   "name": "python",
   "nbconvert_exporter": "python",
   "pygments_lexer": "ipython3",
   "version": "3.11.7"
  }
 },
 "nbformat": 4,
 "nbformat_minor": 5
}
