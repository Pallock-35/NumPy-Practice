{
 "cells": [
  {
   "cell_type": "code",
   "execution_count": 2,
   "id": "2cc3b0ec-9f35-4117-9ce1-5a9f8e06bd5e",
   "metadata": {},
   "outputs": [],
   "source": [
    "import numpy as np"
   ]
  },
  {
   "cell_type": "markdown",
   "id": "5bc64971-c487-4a0a-a7a2-e2b7fcf1d6da",
   "metadata": {},
   "source": [
    "Various Array Attributes"
   ]
  },
  {
   "cell_type": "code",
   "execution_count": 4,
   "id": "8be1a2d6-4f13-4e92-a12f-76addcf04353",
   "metadata": {},
   "outputs": [
    {
     "data": {
      "text/plain": [
       "array([[1, 2, 3],\n",
       "       [4, 5, 6]])"
      ]
     },
     "execution_count": 4,
     "metadata": {},
     "output_type": "execute_result"
    }
   ],
   "source": [
    "a = np.array([[1,2,3],[4,5,6]])\n",
    "a"
   ]
  },
  {
   "cell_type": "code",
   "execution_count": 5,
   "id": "40af977c-894d-4e71-85f2-8344a19f42b5",
   "metadata": {},
   "outputs": [
    {
     "data": {
      "text/plain": [
       "(2, 3)"
      ]
     },
     "execution_count": 5,
     "metadata": {},
     "output_type": "execute_result"
    }
   ],
   "source": [
    "np.shape(a)"
   ]
  },
  {
   "cell_type": "code",
   "execution_count": 6,
   "id": "d31556b4-101a-4441-9ec6-de9e294cb6c4",
   "metadata": {},
   "outputs": [
    {
     "data": {
      "text/plain": [
       "array([[1],\n",
       "       [2],\n",
       "       [3],\n",
       "       [4],\n",
       "       [5],\n",
       "       [6]])"
      ]
     },
     "execution_count": 6,
     "metadata": {},
     "output_type": "execute_result"
    }
   ],
   "source": [
    "b = np.copy(a).reshape(6,1)\n",
    "b"
   ]
  },
  {
   "cell_type": "code",
   "execution_count": 7,
   "id": "49739ad1-5535-4ace-a9c8-d48f15bda7a2",
   "metadata": {},
   "outputs": [
    {
     "name": "stdout",
     "output_type": "stream",
     "text": [
      "4\n"
     ]
    }
   ],
   "source": [
    "print(a.itemsize)  ## returns the length of each element of array in bytes"
   ]
  },
  {
   "cell_type": "code",
   "execution_count": 8,
   "id": "4ec792ca-5a0f-4251-ab8e-c253bf41269a",
   "metadata": {},
   "outputs": [
    {
     "name": "stdout",
     "output_type": "stream",
     "text": [
      "  C_CONTIGUOUS : True\n",
      "  F_CONTIGUOUS : False\n",
      "  OWNDATA : True\n",
      "  WRITEABLE : True\n",
      "  ALIGNED : True\n",
      "  WRITEBACKIFCOPY : False\n",
      "\n"
     ]
    }
   ],
   "source": [
    "print(a.flags)"
   ]
  },
  {
   "cell_type": "code",
   "execution_count": 9,
   "id": "9949c8ec-17d9-425b-8980-0721b7e3277f",
   "metadata": {},
   "outputs": [
    {
     "name": "stdout",
     "output_type": "stream",
     "text": [
      "  C_CONTIGUOUS : True\n",
      "  F_CONTIGUOUS : True\n",
      "  OWNDATA : False\n",
      "  WRITEABLE : True\n",
      "  ALIGNED : True\n",
      "  WRITEBACKIFCOPY : False\n",
      "\n"
     ]
    }
   ],
   "source": [
    "print(b.flags)"
   ]
  },
  {
   "cell_type": "markdown",
   "id": "441af3e9-25a9-44dc-b756-0f569d0653bd",
   "metadata": {},
   "source": [
    "Array Creation Routines"
   ]
  },
  {
   "cell_type": "code",
   "execution_count": 11,
   "id": "1367e774-2c5e-4c95-930e-4868b5a9f726",
   "metadata": {},
   "outputs": [
    {
     "data": {
      "text/plain": [
       "array([['', ''],\n",
       "       ['', ''],\n",
       "       ['', '']], dtype='<U1')"
      ]
     },
     "execution_count": 11,
     "metadata": {},
     "output_type": "execute_result"
    }
   ],
   "source": [
    "c = np.empty([3,2], dtype = str, order = 'C')     #### dtype can be int(integer), bool(boolean), float, complex, bytes, str, memoryview, etc.\n",
    "c"
   ]
  },
  {
   "cell_type": "code",
   "execution_count": 12,
   "id": "738a0833-5fcf-4d5c-81eb-9eeb07c0f0b5",
   "metadata": {},
   "outputs": [
    {
     "data": {
      "text/plain": [
       "array([[0., 0.],\n",
       "       [0., 0.],\n",
       "       [0., 0.],\n",
       "       [0., 0.],\n",
       "       [0., 0.]])"
      ]
     },
     "execution_count": 12,
     "metadata": {},
     "output_type": "execute_result"
    }
   ],
   "source": [
    "d = np.zeros([5,2])\n",
    "d"
   ]
  },
  {
   "cell_type": "code",
   "execution_count": 13,
   "id": "57b51d8d-7153-4cd8-8c61-560bea2a6b8c",
   "metadata": {},
   "outputs": [
    {
     "data": {
      "text/plain": [
       "array([[1., 1., 1., 1., 1., 1., 1.],\n",
       "       [1., 1., 1., 1., 1., 1., 1.],\n",
       "       [1., 1., 1., 1., 1., 1., 1.]])"
      ]
     },
     "execution_count": 13,
     "metadata": {},
     "output_type": "execute_result"
    }
   ],
   "source": [
    "e = np.ones([3,7])\n",
    "e"
   ]
  },
  {
   "cell_type": "code",
   "execution_count": 14,
   "id": "afa4afa7-d62d-420a-96a9-dd89d4b7338e",
   "metadata": {},
   "outputs": [
    {
     "data": {
      "text/plain": [
       "array([[1., 1., 1., 1., 1., 1., 1.],\n",
       "       [1., 1., 1., 1., 1., 1., 1.],\n",
       "       [1., 1., 1., 1., 1., 1., 1.]])"
      ]
     },
     "execution_count": 14,
     "metadata": {},
     "output_type": "execute_result"
    }
   ],
   "source": [
    "E = np.ones_like(e)         #### creates a new array filled with ones, matching the shape and data type of an existing array.\n",
    "E"
   ]
  },
  {
   "cell_type": "code",
   "execution_count": 15,
   "id": "9ec34902-0f2c-4043-9878-0fdb89c83a98",
   "metadata": {},
   "outputs": [
    {
     "data": {
      "text/plain": [
       "array([[1.+0.j, 2.+0.j, 3.+0.j],\n",
       "       [4.+0.j, 5.+0.j, 6.+0.j]])"
      ]
     },
     "execution_count": 15,
     "metadata": {},
     "output_type": "execute_result"
    }
   ],
   "source": [
    "f = np.asarray(a, dtype = complex)   ### array() creates a separate copy, while asarray() directly references the original data if possible.\n",
    "f"
   ]
  },
  {
   "cell_type": "code",
   "execution_count": 16,
   "id": "097160cf-b970-4cca-8214-cf666e9106e7",
   "metadata": {},
   "outputs": [
    {
     "data": {
      "text/plain": [
       "array([[1., 0., 0.],\n",
       "       [0., 1., 0.],\n",
       "       [0., 0., 1.],\n",
       "       [0., 0., 0.]])"
      ]
     },
     "execution_count": 16,
     "metadata": {},
     "output_type": "execute_result"
    }
   ],
   "source": [
    "g = np.eye(4, 3)         #### Can create non-square matrices\n",
    "g"
   ]
  },
  {
   "cell_type": "code",
   "execution_count": 17,
   "id": "6067c10f-3fbc-481e-b7d9-6e0b09d8b355",
   "metadata": {},
   "outputs": [
    {
     "data": {
      "text/plain": [
       "array([[1., 0., 0., 0.],\n",
       "       [0., 1., 0., 0.],\n",
       "       [0., 0., 1., 0.],\n",
       "       [0., 0., 0., 1.]])"
      ]
     },
     "execution_count": 17,
     "metadata": {},
     "output_type": "execute_result"
    }
   ],
   "source": [
    "h = np.identity(4)\n",
    "h"
   ]
  },
  {
   "cell_type": "code",
   "execution_count": 18,
   "id": "dbb9994a-a44e-44f5-9f26-17e4916293bb",
   "metadata": {},
   "outputs": [
    {
     "data": {
      "text/plain": [
       "array([[3, 3],\n",
       "       [3, 3],\n",
       "       [3, 3]])"
      ]
     },
     "execution_count": 18,
     "metadata": {},
     "output_type": "execute_result"
    }
   ],
   "source": [
    "i = np.full([3,2], 3)\n",
    "i"
   ]
  },
  {
   "cell_type": "code",
   "execution_count": 19,
   "id": "da3a0178-53e0-450b-bb88-5f1af650d62d",
   "metadata": {},
   "outputs": [
    {
     "data": {
      "text/plain": [
       "array([[2, 2],\n",
       "       [2, 2],\n",
       "       [2, 2]])"
      ]
     },
     "execution_count": 19,
     "metadata": {},
     "output_type": "execute_result"
    }
   ],
   "source": [
    "j = np.full_like(i, 2, dtype=int)\n",
    "j"
   ]
  },
  {
   "cell_type": "code",
   "execution_count": 20,
   "id": "4ea2eab3-b457-426e-a807-92677dba4d6d",
   "metadata": {},
   "outputs": [
    {
     "data": {
      "text/plain": [
       "[0, 1, 8, 2, 8, 1, 5, 2, 0, 0, 5]"
      ]
     },
     "execution_count": 20,
     "metadata": {},
     "output_type": "execute_result"
    }
   ],
   "source": [
    "k = [0, 1, 8, 2, 8, 1, 5, 2, 0, 0, 5]\n",
    "k"
   ]
  },
  {
   "cell_type": "code",
   "execution_count": 21,
   "id": "337df897-e93c-42e3-871f-4adaf741921b",
   "metadata": {},
   "outputs": [
    {
     "data": {
      "text/plain": [
       "array([0, 1, 8, 2, 8, 1, 5, 2, 0, 0, 5])"
      ]
     },
     "execution_count": 21,
     "metadata": {},
     "output_type": "execute_result"
    }
   ],
   "source": [
    "np.asarray(k)      ## converts an input into array.\n",
    "                    ### Even if the input is already a NumPy array, it creates a copy."
   ]
  },
  {
   "cell_type": "code",
   "execution_count": 22,
   "id": "d307d907-efbf-4117-8003-b0a2fd3e905b",
   "metadata": {},
   "outputs": [
    {
     "data": {
      "text/plain": [
       "array([0, 1, 8, 2, 8, 1, 5, 2, 0, 0, 5])"
      ]
     },
     "execution_count": 22,
     "metadata": {},
     "output_type": "execute_result"
    }
   ],
   "source": [
    "np.asanyarray(k)      ## Creates a new array if necessary: If the input is already a NumPy array, it returns a reference to the existing array without copying.\n",
    "                        ## May convert data type: If the input is not a NumPy array, it tries to convert it to a suitable data type."
   ]
  },
  {
   "cell_type": "code",
   "execution_count": 23,
   "id": "a1f07389-7974-41a9-8193-83045bb0c8f8",
   "metadata": {},
   "outputs": [
    {
     "data": {
      "text/plain": [
       "array([0, 1, 8, 2, 8, 1, 5, 2, 0, 0, 5])"
      ]
     },
     "execution_count": 23,
     "metadata": {},
     "output_type": "execute_result"
    }
   ],
   "source": [
    "np.ascontiguousarray(k)    #### ensure that a NumPy array has contiguous memory storage. This means that the elements of the array are stored in a continuous block of memory, which can improve performance for certain operations."
   ]
  },
  {
   "cell_type": "code",
   "execution_count": 24,
   "id": "9f515c00-8aab-483f-b443-2b130ddf303d",
   "metadata": {},
   "outputs": [
    {
     "data": {
      "text/plain": [
       "matrix([[0, 1, 8, 2, 8, 1, 5, 2, 0, 0, 5]])"
      ]
     },
     "execution_count": 24,
     "metadata": {},
     "output_type": "execute_result"
    }
   ],
   "source": [
    "np.asmatrix(k)"
   ]
  },
  {
   "cell_type": "code",
   "execution_count": 25,
   "id": "41c4439d-010d-4114-baac-07978a691864",
   "metadata": {},
   "outputs": [
    {
     "data": {
      "text/plain": [
       "array([[2.+0.j, 2.+0.j],\n",
       "       [2.+0.j, 2.+0.j],\n",
       "       [2.+0.j, 2.+0.j]])"
      ]
     },
     "execution_count": 25,
     "metadata": {},
     "output_type": "execute_result"
    }
   ],
   "source": [
    "j.astype(complex)   ### convert the data type of a NumPy array"
   ]
  },
  {
   "cell_type": "code",
   "execution_count": 26,
   "id": "6b2a3bb7-574c-4817-be7d-5bff9d741d6d",
   "metadata": {},
   "outputs": [
    {
     "data": {
      "text/plain": [
       "array([2, 2, 2, 2, 2, 2])"
      ]
     },
     "execution_count": 26,
     "metadata": {},
     "output_type": "execute_result"
    }
   ],
   "source": [
    "np.frombuffer(j, dtype=int)"
   ]
  },
  {
   "cell_type": "markdown",
   "id": "0994d42d-3ff1-4e52-a90b-f987609d7744",
   "metadata": {},
   "source": [
    "How to use fromfile "
   ]
  },
  {
   "cell_type": "code",
   "execution_count": 28,
   "id": "494b559f-56b7-419e-9ffd-1964e78d5d40",
   "metadata": {},
   "outputs": [],
   "source": [
    "import tempfile\n",
    "\n",
    "dt = np.dtype([('time', [('min', np.int64), ('sec', np.int64)]), ('temp', float)])   ## Construct an ndarray\n",
    "x = np.zeros((1,), dtype=dt)\n",
    "x['time']['min'] = 10\n",
    "x['temp'] = 98.5\n",
    "\n",
    "fname = tempfile.mkstemp()[1]   ## temporary file creation\n",
    "\n",
    "x.tofile(fname)        ## Save the raw data to disk"
   ]
  },
  {
   "cell_type": "code",
   "execution_count": 29,
   "id": "16b18c1e-7d39-4e0d-9119-16fa90341312",
   "metadata": {},
   "outputs": [
    {
     "data": {
      "text/plain": [
       "array([((10, 0), 98.5)],\n",
       "      dtype=[('time', [('min', '<i8'), ('sec', '<i8')]), ('temp', '<f8')])"
      ]
     },
     "execution_count": 29,
     "metadata": {},
     "output_type": "execute_result"
    }
   ],
   "source": [
    "np.fromfile(fname, dtype=dt)  ### Read the raw data from disk"
   ]
  },
  {
   "cell_type": "code",
   "execution_count": 30,
   "id": "829eaf3a-1042-4be3-a126-f28ea6789ac5",
   "metadata": {},
   "outputs": [
    {
     "data": {
      "text/plain": [
       "array([((10, 0), 98.5)],\n",
       "      dtype=[('time', [('min', '<i8'), ('sec', '<i8')]), ('temp', '<f8')])"
      ]
     },
     "execution_count": 30,
     "metadata": {},
     "output_type": "execute_result"
    }
   ],
   "source": [
    "np.save(fname, x)          ### The recommended way to store and load data\n",
    "np.load(fname + '.npy')"
   ]
  },
  {
   "cell_type": "markdown",
   "id": "9355d979-7128-444a-add5-68f551fe6a14",
   "metadata": {},
   "source": [
    "How to use fromfunction( )"
   ]
  },
  {
   "cell_type": "code",
   "execution_count": 32,
   "id": "d99a15ba-3434-407c-8960-61f851f9cc45",
   "metadata": {},
   "outputs": [
    {
     "data": {
      "text/plain": [
       "array([[0, 0],\n",
       "       [1, 1]])"
      ]
     },
     "execution_count": 32,
     "metadata": {},
     "output_type": "execute_result"
    }
   ],
   "source": [
    "np.fromfunction(lambda i, j: i, (2, 2), dtype=int)  ### it works with i, j indices and returns only i"
   ]
  },
  {
   "cell_type": "code",
   "execution_count": 33,
   "id": "5ad3012f-a264-460b-ab36-3284c600e3a4",
   "metadata": {},
   "outputs": [
    {
     "data": {
      "text/plain": [
       "array([[0, 1, 2],\n",
       "       [0, 1, 2],\n",
       "       [0, 1, 2]])"
      ]
     },
     "execution_count": 33,
     "metadata": {},
     "output_type": "execute_result"
    }
   ],
   "source": [
    "np.fromfunction(lambda i, j: j, (3, 3), dtype=int)  ### it works with i, j indices and returns only j"
   ]
  },
  {
   "cell_type": "code",
   "execution_count": 34,
   "id": "a1abf9f2-1274-4e10-91d2-bed8a1daeb0f",
   "metadata": {},
   "outputs": [
    {
     "data": {
      "text/plain": [
       "array([[ True, False],\n",
       "       [False,  True]])"
      ]
     },
     "execution_count": 34,
     "metadata": {},
     "output_type": "execute_result"
    }
   ],
   "source": [
    "np.fromfunction(lambda i, j: i==j, (2, 2), dtype=int)  ### it works with i, j indices and returns only when i==j"
   ]
  },
  {
   "cell_type": "code",
   "execution_count": 35,
   "id": "e8c12def-1dca-4725-983f-30c78122b415",
   "metadata": {},
   "outputs": [
    {
     "data": {
      "text/plain": [
       "array([[0, 1],\n",
       "       [1, 2]])"
      ]
     },
     "execution_count": 35,
     "metadata": {},
     "output_type": "execute_result"
    }
   ],
   "source": [
    "np.fromfunction(lambda i, j: i+j, (2, 2), dtype=int)  ### it works with i, j indices and returns the summation of indices"
   ]
  },
  {
   "cell_type": "markdown",
   "id": "956235cf-c145-4552-8bb5-a4c9f20db432",
   "metadata": {},
   "source": [
    "NUMERICAL RANGES"
   ]
  },
  {
   "cell_type": "code",
   "execution_count": 37,
   "id": "4d4c3dfe-0a46-404e-a654-ff89e482aa4c",
   "metadata": {},
   "outputs": [
    {
     "data": {
      "text/plain": [
       "array([-1. , -0.5,  0. ,  0.5])"
      ]
     },
     "execution_count": 37,
     "metadata": {},
     "output_type": "execute_result"
    }
   ],
   "source": [
    "np.arange(-1, 1, 0.5, dtype = float)"
   ]
  },
  {
   "cell_type": "code",
   "execution_count": 38,
   "id": "ada46022-e04f-478c-ae72-33d88d718eb4",
   "metadata": {},
   "outputs": [
    {
     "data": {
      "text/plain": [
       "array([-1. , -0.5,  0. ,  0.5,  1. ])"
      ]
     },
     "execution_count": 38,
     "metadata": {},
     "output_type": "execute_result"
    }
   ],
   "source": [
    "np.linspace(-1, 1, 5)"
   ]
  },
  {
   "cell_type": "code",
   "execution_count": 39,
   "id": "170d0427-678f-453a-bb4a-2e07bdbb8ead",
   "metadata": {},
   "outputs": [
    {
     "data": {
      "text/plain": [
       "array([ 0.1       ,  0.31622777,  1.        ,  3.16227766, 10.        ])"
      ]
     },
     "execution_count": 39,
     "metadata": {},
     "output_type": "execute_result"
    }
   ],
   "source": [
    "np.logspace(-1, 1, 5)"
   ]
  },
  {
   "cell_type": "code",
   "execution_count": 73,
   "id": "ff0e8095-34ff-4074-85d2-398e65a70990",
   "metadata": {},
   "outputs": [
    {
     "data": {
      "text/plain": [
       "array([1.        , 1.56508458, 2.44948974, 3.83365863, 6.        ])"
      ]
     },
     "execution_count": 73,
     "metadata": {},
     "output_type": "execute_result"
    }
   ],
   "source": [
    "np.geomspace(1, 6, 5)"
   ]
  },
  {
   "cell_type": "code",
   "execution_count": null,
   "id": "b45ef560-47fa-44bf-92c7-7819ce8615f6",
   "metadata": {},
   "outputs": [],
   "source": []
  }
 ],
 "metadata": {
  "kernelspec": {
   "display_name": "Python 3 (ipykernel)",
   "language": "python",
   "name": "python3"
  },
  "language_info": {
   "codemirror_mode": {
    "name": "ipython",
    "version": 3
   },
   "file_extension": ".py",
   "mimetype": "text/x-python",
   "name": "python",
   "nbconvert_exporter": "python",
   "pygments_lexer": "ipython3",
   "version": "3.11.7"
  }
 },
 "nbformat": 4,
 "nbformat_minor": 5
}
